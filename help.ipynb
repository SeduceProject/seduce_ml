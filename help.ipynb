{
 "cells": [
  {
   "cell_type": "code",
   "execution_count": 1,
   "metadata": {},
   "outputs": [
    {
     "name": "stdout",
     "output_type": "stream",
     "text": [
      "Requirement already satisfied: pyfunctional in /usr/local/lib/python3.7/site-packages (1.2.0)\r\n",
      "Requirement already satisfied: tabulate<=1.0.0 in /usr/local/lib/python3.7/site-packages (from pyfunctional) (0.8.2)\r\n",
      "Requirement already satisfied: dill==0.2.5 in /usr/local/lib/python3.7/site-packages (from pyfunctional) (0.2.5)\r\n",
      "Requirement already satisfied: six<=2.0.0 in /usr/local/lib/python3.7/site-packages (from pyfunctional) (1.12.0)\r\n",
      "Requirement already satisfied: future<=1.0.0 in /usr/local/lib/python3.7/site-packages (from pyfunctional) (0.16.0)\r\n"
     ]
    },
    {
     "ename": "KeyError",
     "evalue": "'ecotype_1'",
     "output_type": "error",
     "traceback": [
      "\u001b[0;31m---------------------------------------------------------------------------\u001b[0m",
      "\u001b[0;31mKeyError\u001b[0m                                  Traceback (most recent call last)",
      "\u001b[0;32m<ipython-input-1-af72ac4b3be5>\u001b[0m in \u001b[0;36m<module>\u001b[0;34m\u001b[0m\n\u001b[1;32m     52\u001b[0m temperatures = visualization_data.map(lambda z: seq(z)\n\u001b[1;32m     53\u001b[0m              \u001b[0;34m.\u001b[0m\u001b[0mmap\u001b[0m\u001b[0;34m(\u001b[0m\u001b[0;32mlambda\u001b[0m \u001b[0mz\u001b[0m\u001b[0;34m:\u001b[0m \u001b[0mz\u001b[0m\u001b[0;34m[\u001b[0m\u001b[0;36m2\u001b[0m\u001b[0;34m]\u001b[0m\u001b[0;34m)\u001b[0m\u001b[0;34m\u001b[0m\u001b[0;34m\u001b[0m\u001b[0m\n\u001b[0;32m---> 54\u001b[0;31m              .map(lambda x: x if x is not None else 0))[0]\n\u001b[0m\u001b[1;32m     55\u001b[0m \u001b[0;34m\u001b[0m\u001b[0m\n\u001b[1;32m     56\u001b[0m \u001b[0mx\u001b[0m \u001b[0;34m=\u001b[0m \u001b[0mnp\u001b[0m\u001b[0;34m.\u001b[0m\u001b[0mtranspose\u001b[0m\u001b[0;34m(\u001b[0m\u001b[0mnp\u001b[0m\u001b[0;34m.\u001b[0m\u001b[0marray\u001b[0m\u001b[0;34m(\u001b[0m\u001b[0mv\u001b[0m\u001b[0;34m.\u001b[0m\u001b[0mtake\u001b[0m\u001b[0;34m(\u001b[0m\u001b[0mservers_names\u001b[0m\u001b[0;34m.\u001b[0m\u001b[0msize\u001b[0m\u001b[0;34m(\u001b[0m\u001b[0;34m)\u001b[0m\u001b[0;34m)\u001b[0m\u001b[0;34m.\u001b[0m\u001b[0mmap\u001b[0m\u001b[0;34m(\u001b[0m\u001b[0;32mlambda\u001b[0m \u001b[0mx\u001b[0m\u001b[0;34m:\u001b[0m \u001b[0mx\u001b[0m\u001b[0;34m.\u001b[0m\u001b[0mmap\u001b[0m\u001b[0;34m(\u001b[0m\u001b[0;32mlambda\u001b[0m \u001b[0mz\u001b[0m\u001b[0;34m:\u001b[0m \u001b[0mz\u001b[0m \u001b[0;34m/\u001b[0m \u001b[0mNORMALIZATION_SERVER\u001b[0m\u001b[0;34m)\u001b[0m\u001b[0;34m.\u001b[0m\u001b[0mto_list\u001b[0m\u001b[0;34m(\u001b[0m\u001b[0;34m)\u001b[0m\u001b[0;34m)\u001b[0m\u001b[0;34m.\u001b[0m\u001b[0mto_list\u001b[0m\u001b[0;34m(\u001b[0m\u001b[0;34m)\u001b[0m\u001b[0;34m)\u001b[0m\u001b[0;34m)\u001b[0m\u001b[0;34m\u001b[0m\u001b[0;34m\u001b[0m\u001b[0m\n",
      "\u001b[0;32m/usr/local/lib/python3.7/site-packages/functional/pipeline.py\u001b[0m in \u001b[0;36m__getitem__\u001b[0;34m(self, item)\u001b[0m\n\u001b[1;32m    134\u001b[0m         \u001b[0;34m:\u001b[0m\u001b[0;32mreturn\u001b[0m\u001b[0;34m:\u001b[0m \u001b[0mitem\u001b[0m \u001b[0mat\u001b[0m \u001b[0mindex\u001b[0m \u001b[0mkey\u001b[0m\u001b[0;34m\u001b[0m\u001b[0;34m\u001b[0m\u001b[0m\n\u001b[1;32m    135\u001b[0m         \"\"\"\n\u001b[0;32m--> 136\u001b[0;31m         \u001b[0mself\u001b[0m\u001b[0;34m.\u001b[0m\u001b[0mcache\u001b[0m\u001b[0;34m(\u001b[0m\u001b[0;34m)\u001b[0m\u001b[0;34m\u001b[0m\u001b[0;34m\u001b[0m\u001b[0m\n\u001b[0m\u001b[1;32m    137\u001b[0m         \u001b[0;32mreturn\u001b[0m \u001b[0m_wrap\u001b[0m\u001b[0;34m(\u001b[0m\u001b[0mself\u001b[0m\u001b[0;34m.\u001b[0m\u001b[0msequence\u001b[0m\u001b[0;34m[\u001b[0m\u001b[0mitem\u001b[0m\u001b[0;34m]\u001b[0m\u001b[0;34m)\u001b[0m\u001b[0;34m\u001b[0m\u001b[0;34m\u001b[0m\u001b[0m\n\u001b[1;32m    138\u001b[0m \u001b[0;34m\u001b[0m\u001b[0m\n",
      "\u001b[0;32m/usr/local/lib/python3.7/site-packages/functional/pipeline.py\u001b[0m in \u001b[0;36mcache\u001b[0;34m(self, delete_lineage)\u001b[0m\n\u001b[1;32m    212\u001b[0m                 \u001b[0mself\u001b[0m\u001b[0;34m.\u001b[0m\u001b[0m_lineage\u001b[0m\u001b[0;34m.\u001b[0m\u001b[0mapply\u001b[0m\u001b[0;34m(\u001b[0m\u001b[0mtransformations\u001b[0m\u001b[0;34m.\u001b[0m\u001b[0mCACHE_T\u001b[0m\u001b[0;34m)\u001b[0m\u001b[0;34m\u001b[0m\u001b[0;34m\u001b[0m\u001b[0m\n\u001b[1;32m    213\u001b[0m         \u001b[0;32melse\u001b[0m\u001b[0;34m:\u001b[0m\u001b[0;34m\u001b[0m\u001b[0;34m\u001b[0m\u001b[0m\n\u001b[0;32m--> 214\u001b[0;31m             \u001b[0mself\u001b[0m\u001b[0;34m.\u001b[0m\u001b[0m_base_sequence\u001b[0m \u001b[0;34m=\u001b[0m \u001b[0mlist\u001b[0m\u001b[0;34m(\u001b[0m\u001b[0mself\u001b[0m\u001b[0;34m.\u001b[0m\u001b[0m_evaluate\u001b[0m\u001b[0;34m(\u001b[0m\u001b[0;34m)\u001b[0m\u001b[0;34m)\u001b[0m\u001b[0;34m\u001b[0m\u001b[0;34m\u001b[0m\u001b[0m\n\u001b[0m\u001b[1;32m    215\u001b[0m             \u001b[0mself\u001b[0m\u001b[0;34m.\u001b[0m\u001b[0m_lineage\u001b[0m\u001b[0;34m.\u001b[0m\u001b[0mapply\u001b[0m\u001b[0;34m(\u001b[0m\u001b[0mtransformations\u001b[0m\u001b[0;34m.\u001b[0m\u001b[0mCACHE_T\u001b[0m\u001b[0;34m)\u001b[0m\u001b[0;34m\u001b[0m\u001b[0;34m\u001b[0m\u001b[0m\n\u001b[1;32m    216\u001b[0m         \u001b[0;32mif\u001b[0m \u001b[0mdelete_lineage\u001b[0m\u001b[0;34m:\u001b[0m\u001b[0;34m\u001b[0m\u001b[0;34m\u001b[0m\u001b[0m\n",
      "\u001b[0;32m<ipython-input-1-af72ac4b3be5>\u001b[0m in \u001b[0;36m<lambda>\u001b[0;34m(x)\u001b[0m\n\u001b[1;32m     40\u001b[0m \u001b[0;34m\u001b[0m\u001b[0m\n\u001b[1;32m     41\u001b[0m \u001b[0mvisualization_data\u001b[0m \u001b[0;34m=\u001b[0m \u001b[0mnodes_names\u001b[0m\u001b[0;31m \u001b[0m\u001b[0;31m\\\u001b[0m\u001b[0;34m\u001b[0m\u001b[0;34m\u001b[0m\u001b[0m\n\u001b[0;32m---> 42\u001b[0;31m         \u001b[0;34m.\u001b[0m\u001b[0mmap\u001b[0m\u001b[0;34m(\u001b[0m\u001b[0;32mlambda\u001b[0m \u001b[0mx\u001b[0m\u001b[0;34m:\u001b[0m \u001b[0mdata\u001b[0m\u001b[0;34m.\u001b[0m\u001b[0mget\u001b[0m\u001b[0;34m(\u001b[0m\u001b[0;34m\"consumptions\"\u001b[0m\u001b[0;34m)\u001b[0m\u001b[0;34m[\u001b[0m\u001b[0mx\u001b[0m\u001b[0;34m]\u001b[0m\u001b[0;34m)\u001b[0m\u001b[0;31m \u001b[0m\u001b[0;31m\\\u001b[0m\u001b[0;34m\u001b[0m\u001b[0;34m\u001b[0m\u001b[0m\n\u001b[0m\u001b[1;32m     43\u001b[0m         \u001b[0;34m.\u001b[0m\u001b[0mmap\u001b[0m\u001b[0;34m(\u001b[0m\u001b[0;32mlambda\u001b[0m \u001b[0mc\u001b[0m\u001b[0;34m:\u001b[0m \u001b[0mzip\u001b[0m\u001b[0;34m(\u001b[0m\u001b[0mc\u001b[0m\u001b[0;34m[\u001b[0m\u001b[0;34m\"timestamps\"\u001b[0m\u001b[0;34m]\u001b[0m\u001b[0;34m,\u001b[0m \u001b[0mc\u001b[0m\u001b[0;34m[\u001b[0m\u001b[0;34m\"means\"\u001b[0m\u001b[0;34m]\u001b[0m\u001b[0;34m,\u001b[0m \u001b[0mc\u001b[0m\u001b[0;34m[\u001b[0m\u001b[0;34m\"temperatures\"\u001b[0m\u001b[0;34m]\u001b[0m\u001b[0;34m)\u001b[0m\u001b[0;34m)\u001b[0m\u001b[0;31m\\\u001b[0m\u001b[0;34m\u001b[0m\u001b[0;34m\u001b[0m\u001b[0m\n\u001b[1;32m     44\u001b[0m         .map(lambda z: seq(z)\n",
      "\u001b[0;31mKeyError\u001b[0m: 'ecotype_1'"
     ]
    }
   ],
   "source": [
    "!pip3 install pyfunctional\n",
    "%matplotlib notebook\n",
    "\n",
    "import numpy as np\n",
    "import requests\n",
    "from functional import seq\n",
    "import os\n",
    "import json\n",
    "import scipy\n",
    "import mcerp\n",
    "import matplotlib.pyplot as plt\n",
    "\n",
    "TEMP_MIN = 16\n",
    "TEMP_MAX = 30\n",
    "\n",
    "NORMALIZATION_SERVER = 300\n",
    "NORMALIZATION_COOLING = 10000\n",
    "\n",
    "resp = requests.get(\"https://api.seduce.fr/power_infrastructure/description/tree\")\n",
    "servers_names_raw = resp.json()['children'][0]['children'][1]['children'][1]['node'].get(\"children\")\n",
    "servers_names_raw = sorted(servers_names_raw, key=lambda x: int(x.split(\"-\")[1]))\n",
    "\n",
    "servers_names = seq(servers_names_raw).map(lambda x: x.replace(\"-\", \"_\"))\n",
    "# servers_names = servers_names.take(2)\n",
    "\n",
    "nodes_names = servers_names + [\"back_temperature\"]\n",
    "\n",
    "data_file_path = \"/Users/jonathan/Documents/workspace/seduce_ml/data.json\"\n",
    "\n",
    "with open(data_file_path, \"r\") as data_file:\n",
    "    data = json.load(data_file)\n",
    "\n",
    "timestamps_with_all_data = None\n",
    "for k, v in data.get(\"consumptions\").items():\n",
    "    if timestamps_with_all_data is None:\n",
    "        timestamps_with_all_data = v.get(\"timestamps\")\n",
    "    old_length = len(timestamps_with_all_data)\n",
    "    timestamps_with_all_data = [item for item in timestamps_with_all_data if item in v.get(\"timestamps\")]\n",
    "    # print(\"length %s => %s [%s]\" % (old_length, len(timestamps_with_all_data), len(v.get(\"timestamps\"))))\n",
    "\n",
    "visualization_data = nodes_names \\\n",
    "        .map(lambda x: data.get(\"consumptions\")[x]) \\\n",
    "        .map(lambda c: zip(c[\"timestamps\"], c[\"means\"], c[\"temperatures\"]))\\\n",
    "        .map(lambda z: seq(z)\n",
    "             .filter(lambda z: z[0] in timestamps_with_all_data)\n",
    "             .filter(lambda z: z[2] >= TEMP_MIN and z[2] <= TEMP_MAX))\n",
    "\n",
    "v = visualization_data.map(lambda z: seq(z)\n",
    "             .map(lambda z: z[1])\n",
    "             .map(lambda x: x if x is not None else 0))\n",
    "\n",
    "temperatures = visualization_data.map(lambda z: seq(z)\n",
    "             .map(lambda z: z[2])\n",
    "             .map(lambda x: x if x is not None else 0))[0]\n",
    "\n",
    "x = np.transpose(np.array(v.take(servers_names.size()).map(lambda x: x.map(lambda z: z / NORMALIZATION_SERVER).to_list()).to_list()))\n",
    "y = np.array(v.drop(servers_names.size()).map(lambda x: x.map(lambda z: z / NORMALIZATION_COOLING).to_list()).to_list())[0]"
   ]
  },
  {
   "cell_type": "code",
   "execution_count": null,
   "metadata": {},
   "outputs": [],
   "source": [
    "fig, ax = plt.subplots()\n",
    "\n",
    "colors = ['tab:blue', 'tab:orange', 'tab:green']\n",
    "\n",
    "def ts_to_color_sorted_day(tss):\n",
    "    #return \"tab:blue\"\n",
    "    return float(tss) / np.max(indexes_int)\n",
    "\n",
    "def ts_to_color_sorted_hour(tss):\n",
    "    #return \"tab:blue\"\n",
    "    return float(tss) % 36  / 36 #np.max(indexes_int)\n",
    "\n",
    "def temperature_to_color(v):\n",
    "    return v\n",
    "\n",
    "cm = plt.cm.get_cmap('RdYlBu')\n",
    "\n",
    "# Using set_dashes() to modify dashing of an existing line\n",
    "x_values = np.array([np.mean(v) * NORMALIZATION_SERVER for v in x])\n",
    "y_values = np.array([y * NORMALIZATION_COOLING])\n",
    "\n",
    "color_values = [temperature_to_color(v) for v in temperatures]\n",
    "scatter = ax.scatter(x_values, y_values, c=color_values, label='consumption', alpha=0.5)\n",
    "fig.colorbar(scatter)"
   ]
  },
  {
   "cell_type": "code",
   "execution_count": null,
   "metadata": {},
   "outputs": [],
   "source": []
  }
 ],
 "metadata": {
  "kernelspec": {
   "display_name": "Python 3",
   "language": "python",
   "name": "python3"
  },
  "language_info": {
   "codemirror_mode": {
    "name": "ipython",
    "version": 3
   },
   "file_extension": ".py",
   "mimetype": "text/x-python",
   "name": "python",
   "nbconvert_exporter": "python",
   "pygments_lexer": "ipython3",
   "version": "3.7.4"
  }
 },
 "nbformat": 4,
 "nbformat_minor": 2
}
