{
 "cells": [
  {
   "cell_type": "code",
   "execution_count": 45,
   "metadata": {},
   "outputs": [],
   "source": [
    "import numpy as np\n",
    "from scipy.stats import chi2_contingency\n",
    "from scipy.stats import chi2\n",
    "import matplotlib\n",
    "import matplotlib.pyplot as plt\n",
    "import math"
   ]
  },
  {
   "cell_type": "code",
   "execution_count": 63,
   "metadata": {},
   "outputs": [],
   "source": [
    "# Example taken from https://en.wikipedia.org/wiki/Chi-squared_test#Pearson's_chi-squared_test\n",
    "#\n",
    "#              A   B   C    D \n",
    "M = np.array([\n",
    "              [90, 60, 104, 95],  # white collar\n",
    "              [30, 50, 51,  20],  # blue collar\n",
    "              [30, 40, 45,  35]]) # no collar\n",
    "\n",
    "M2 = np.array([\n",
    "              [30, 15, 120, 300],  # white collar\n",
    "              [50, 25, 200, 500],  # blue collar\n",
    "              [30, 15, 120, 300]]) # no collar"
   ]
  },
  {
   "cell_type": "code",
   "execution_count": 65,
   "metadata": {},
   "outputs": [
    {
     "data": {
      "text/plain": [
       "(245.71202858582603,\n",
       " 6,\n",
       " 3.3817651048308667e-50,\n",
       " array([[ 805.38461538,  805.38461538, 1073.84615385,  805.38461538],\n",
       "        [ 348.46153846,  348.46153846,  464.61538462,  348.46153846],\n",
       "        [ 346.15384615,  346.15384615,  461.53846154,  346.15384615]]))"
      ]
     },
     "execution_count": 65,
     "metadata": {},
     "output_type": "execute_result"
    }
   ],
   "source": [
    "chisq, pvalue, degrees, expected = chi2_contingency(M)\n",
    "chisq, degrees, pvalue, expected"
   ]
  },
  {
   "cell_type": "code",
   "execution_count": 48,
   "metadata": {},
   "outputs": [
    {
     "name": "stdout",
     "output_type": "stream",
     "text": [
      "total=650\n",
      "white_collar_total=349\n",
      "blue_collar_total=151\n",
      "no_collar_total=150\n",
      "A_total=150\n",
      "B_total=150\n",
      "C_total=200\n",
      "D_total=150\n"
     ]
    }
   ],
   "source": [
    "total = np.sum(M)\n",
    "\n",
    "A_total = np.sum(M[:, 0:1])\n",
    "B_total = np.sum(M[:, 1:2])\n",
    "C_total = np.sum(M[:, 2:3])\n",
    "D_total = np.sum(M[:, 3:4])\n",
    "\n",
    "white_collar_total = np.sum(M[0:1, :])\n",
    "blue_collar_total = np.sum(M[1:2, :])\n",
    "no_collar_total = np.sum(M[2:3, :])\n",
    "\n",
    "print(f\"total={total}\")\n",
    "print(f\"white_collar_total={white_collar_total}\")\n",
    "print(f\"blue_collar_total={blue_collar_total}\")\n",
    "print(f\"no_collar_total={no_collar_total}\")\n",
    "\n",
    "print(f\"A_total={A_total}\")\n",
    "print(f\"B_total={B_total}\")\n",
    "print(f\"C_total={C_total}\")\n",
    "print(f\"D_total={D_total}\")"
   ]
  },
  {
   "cell_type": "code",
   "execution_count": 49,
   "metadata": {},
   "outputs": [
    {
     "name": "stdout",
     "output_type": "stream",
     "text": [
      "[150 150 200 150]\n",
      "[22500 22500 30000 22500]\n"
     ]
    }
   ],
   "source": [
    "M_expected_if_independent = np.array([\n",
    "    white_collar_total/total * np.array([A_total, B_total, C_total, D_total]),\n",
    "    blue_collar_total/total  * np.array([A_total, B_total, C_total, D_total]),\n",
    "    no_collar_total/total    * np.array([A_total, B_total, C_total, D_total]),\n",
    "])\n",
    "print(np.array([A_total, B_total, C_total, D_total]))\n",
    "print(no_collar_total * np.array([A_total, B_total, C_total, D_total]))"
   ]
  },
  {
   "cell_type": "code",
   "execution_count": 50,
   "metadata": {},
   "outputs": [
    {
     "name": "stdout",
     "output_type": "stream",
     "text": [
      "[[ 80.53846154  80.53846154 107.38461538  80.53846154]\n",
      " [ 34.84615385  34.84615385  46.46153846  34.84615385]\n",
      " [ 34.61538462  34.61538462  46.15384615  34.61538462]]\n"
     ]
    }
   ],
   "source": [
    "print(M_expected_if_independent)"
   ]
  },
  {
   "cell_type": "code",
   "execution_count": 51,
   "metadata": {},
   "outputs": [
    {
     "name": "stdout",
     "output_type": "stream",
     "text": [
      "[[1.11152744e+00 5.23760194e+00 1.06678422e-01 2.59672324e+00]\n",
      " [6.73968416e-01 6.59008321e+00 4.43326541e-01 6.32518254e+00]\n",
      " [6.15384615e-01 8.37606838e-01 2.88461538e-02 4.27350427e-03]]\n"
     ]
    }
   ],
   "source": [
    "chi_quantities = (M - M_expected_if_independent)**2 / M_expected_if_independent\n",
    "print(chi_quantities)"
   ]
  },
  {
   "cell_type": "code",
   "execution_count": 52,
   "metadata": {},
   "outputs": [
    {
     "data": {
      "text/plain": [
       "24.571202858582595"
      ]
     },
     "execution_count": 52,
     "metadata": {},
     "output_type": "execute_result"
    }
   ],
   "source": [
    "np.sum(chi_quantities)"
   ]
  },
  {
   "cell_type": "code",
   "execution_count": 53,
   "metadata": {},
   "outputs": [
    {
     "data": {
      "image/png": "[encoded data removed]",
      "text/plain": [
       "<Figure size 432x288 with 2 Axes>"
      ]
     },
     "metadata": {
      "needs_background": "light"
     },
     "output_type": "display_data"
    }
   ],
   "source": [
    "fig, ax = plt.subplots()\n",
    "im = ax.imshow(chi_quantities)\n",
    "\n",
    "Y_LABELS = [\"White collars\", \"Blue collars\", \"no collars\"]\n",
    "X_LABELS = [\"A\", \"B\", \"C\", \"D\"]\n",
    "\n",
    "# Rotate the tick labels and set their alignment.\n",
    "plt.setp(ax.get_xticklabels(), rotation=45, ha=\"right\",\n",
    "         rotation_mode=\"anchor\")\n",
    "\n",
    "# Create colorbar\n",
    "cbar = ax.figure.colorbar(im, ax=ax, cmap=\"YlGn\")\n",
    "#cbar.ax.set_ylabel(cbarlabel, rotation=-90, va=\"bottom\")\n",
    "\n",
    "ax.set_xticks(np.arange(len(X_LABELS)))\n",
    "ax.set_yticks(np.arange(len(Y_LABELS)))\n",
    "ax.set_xticklabels(X_LABELS)\n",
    "ax.set_yticklabels(Y_LABELS)\n",
    "\n",
    "fig.tight_layout()\n",
    "plt.show()"
   ]
  },
  {
   "cell_type": "code",
   "execution_count": 66,
   "metadata": {},
   "outputs": [
    {
     "name": "stdout",
     "output_type": "stream",
     "text": [
      "{5: 15, 3: 22, 6: 19, 1: 19, 2: 10, 4: 15}\n"
     ]
    }
   ],
   "source": [
    "import random\n",
    "\n",
    "def bad_dice_throw():\n",
    "    probabilities = {\n",
    "        1: 1/6,\n",
    "        2: 1.10/6,\n",
    "        3: 0.90/6,\n",
    "        4: 1/6,\n",
    "        5: 1/6,\n",
    "        6: 1/6,\n",
    "    }\n",
    "    \n",
    "    result = None\n",
    "    while result is None:\n",
    "        for k,v in random.sample(probabilities.items(), k=6):\n",
    "            p = random.random()\n",
    "            if random.random() <= v:\n",
    "                result = k\n",
    "                break\n",
    "    return result\n",
    "\n",
    "def good_dice_throw():\n",
    "    return random.randint(1,6)\n",
    "\n",
    "dice_throw = good_dice_throw\n",
    "#dice_throw = bad_dice_throw\n",
    "\n",
    "dice_face_throws = {}\n",
    "for i in range(0, 100):\n",
    "    throw = dice_throw()\n",
    "    if throw not in dice_face_throws:\n",
    "        dice_face_throws[throw] = 0\n",
    "    dice_face_throws[throw] += 1\n",
    "\n",
    "print(dice_face_throws)"
   ]
  },
  {
   "cell_type": "code",
   "execution_count": 67,
   "metadata": {},
   "outputs": [
    {
     "name": "stdout",
     "output_type": "stream",
     "text": [
      "[[19]\n",
      " [10]\n",
      " [22]\n",
      " [15]\n",
      " [15]\n",
      " [19]]\n",
      "[[16.66666667]\n",
      " [16.66666667]\n",
      " [16.66666667]\n",
      " [16.66666667]\n",
      " [16.66666667]\n",
      " [16.66666667]]\n",
      "[[0.32666667]\n",
      " [2.66666667]\n",
      " [1.70666667]\n",
      " [0.16666667]\n",
      " [0.16666667]\n",
      " [0.32666667]]\n",
      "5.359999999999999\n",
      "This dice is fair with a probability of 37.35416494952158%\n"
     ]
    }
   ],
   "source": [
    "M = np.array([\n",
    "    [dice_face_throws[1]],\n",
    "    [dice_face_throws[2]],\n",
    "    [dice_face_throws[3]],\n",
    "    [dice_face_throws[4]],\n",
    "    [dice_face_throws[5]],\n",
    "    [dice_face_throws[6]],\n",
    "])\n",
    "\n",
    "M_expected = np.array([\n",
    "    [np.sum(M) / 6],\n",
    "    [np.sum(M) / 6],\n",
    "    [np.sum(M) / 6],\n",
    "    [np.sum(M) / 6],\n",
    "    [np.sum(M) / 6],\n",
    "    [np.sum(M) / 6],\n",
    "])\n",
    "\n",
    "print(M)\n",
    "print(M_expected)\n",
    "\n",
    "chi_matrix = (M - M_expected)**2 / M_expected\n",
    "\n",
    "print(chi_matrix)\n",
    "print(np.sum(chi_matrix))\n",
    "\n",
    "chisq = np.sum(chi_matrix)\n",
    "DOF = 5\n",
    "pval = 1.0 - chi2.cdf(chisq, DOF)\n",
    "\n",
    "print(f\"This dice is fair with a probability of {pval * 100}%\")"
   ]
  },
  {
   "cell_type": "code",
   "execution_count": null,
   "metadata": {},
   "outputs": [],
   "source": []
  },
  {
   "cell_type": "code",
   "execution_count": null,
   "metadata": {},
   "outputs": [],
   "source": []
  }
 ],
 "metadata": {
  "kernelspec": {
   "display_name": "Python 3",
   "language": "python",
   "name": "python3"
  },
  "language_info": {
   "codemirror_mode": {
    "name": "ipython",
    "version": 3
   },
   "file_extension": ".py",
   "mimetype": "text/x-python",
   "name": "python",
   "nbconvert_exporter": "python",
   "pygments_lexer": "ipython3",
   "version": "3.7.4"
  }
 },
 "nbformat": 4,
 "nbformat_minor": 2
}
